{
 "cells": [
  {
   "cell_type": "code",
   "execution_count": 2,
   "metadata": {},
   "outputs": [],
   "source": [
    "import os\n",
    "import glob\n",
    "import shutil\n",
    "from tqdm import tqdm\n",
    "from datetime import datetime\n",
    "\n",
    "import numpy as np\n",
    "import pandas as pd\n",
    "\n",
    "import tator\n",
    "import panoptes_client"
   ]
  },
  {
   "cell_type": "code",
   "execution_count": 3,
   "metadata": {},
   "outputs": [],
   "source": [
    "def get_now():\n",
    "    return datetime.now().strftime(\"%Y-%m-%d_%H-%M-%S\")"
   ]
  },
  {
   "cell_type": "markdown",
   "metadata": {},
   "source": [
    "### Configs"
   ]
  },
  {
   "cell_type": "code",
   "execution_count": 4,
   "metadata": {},
   "outputs": [
    {
     "name": "stdout",
     "output_type": "stream",
     "text": [
      "NOTE: Authentication to Zooniverse successful for Jordan-Pierce\n",
      "NOTE: Connected to Zooniverse project 'Click-a-Coral' successfully\n"
     ]
    }
   ],
   "source": [
    "username = os.getenv('ZOONIVERSE_USERNAME')\n",
    "password = os.getenv('ZOONIVERSE_PASSWORD')\n",
    "\n",
    "zoon_project_id = 21853\n",
    "\n",
    "try:\n",
    "    # Login to panoptes using username and password\n",
    "    panoptes_client.Panoptes.connect(username=username, password=password)\n",
    "    print(f\"NOTE: Authentication to Zooniverse successful for {username}\")\n",
    "except Exception as e:\n",
    "    raise Exception(f\"ERROR: Could not login to Panoptes for {username}\\n{e}\")\n",
    "\n",
    "try:\n",
    "    # Get access to the Zooniverse project given the provided credentials\n",
    "    project = panoptes_client.Project.find(id=zoon_project_id)\n",
    "    print(f\"NOTE: Connected to Zooniverse project '{project.title}' successfully\")\n",
    "except Exception as e:\n",
    "    raise Exception(f\"ERROR: Could not access project {zoon_project_id}.\\n{e}\")"
   ]
  },
  {
   "cell_type": "code",
   "execution_count": 5,
   "metadata": {},
   "outputs": [
    {
     "name": "stdout",
     "output_type": "stream",
     "text": [
      "NOTE: Authentication to TATOR successful for jordan.pierce\n"
     ]
    }
   ],
   "source": [
    "token = os.getenv('TATOR_TOKEN')\n",
    "project_id = 70\n",
    "\n",
    "try:\n",
    "    # Get the TATOR api given the provided token\n",
    "    api = tator.get_api(host='https://cloud.tator.io', token=token)\n",
    "    # Get the correct type of localization for the project (bounding box, attributes)\n",
    "    tator_project_id = project_id\n",
    "    state_type_id = 288  # State Type (ROV)\n",
    "    print(f\"NOTE: Authentication to TATOR successful for {api.whoami().username}\")\n",
    "except Exception as e:\n",
    "    raise Exception(f\"ERROR: Could not obtain needed information from TATOR.\\n{e}\")"
   ]
  },
  {
   "cell_type": "markdown",
   "metadata": {},
   "source": [
    "### Get Reduced Season N Dataframe"
   ]
  },
  {
   "cell_type": "code",
   "execution_count": 26,
   "metadata": {},
   "outputs": [],
   "source": [
    "import os\n",
    "from cac.from_zooniverse import clean_csv_file\n",
    "\n",
    "# Extract args\n",
    "workflow_id = 26428\n",
    "version = 16.18\n",
    "\n",
    "# Extract the shapes for the workflow\n",
    "csv_path = \"../data/classification_csv/click-a-coral-classifications_season_3.csv\"\n",
    "csv_path = os.path.abspath(csv_path)\n",
    "\n",
    "output_dir = \"../data/reduced/Season_2\"\n",
    "output_dir = os.path.abspath(output_dir)\n",
    "os.makedirs(output_dir, exist_ok=True)"
   ]
  },
  {
   "cell_type": "code",
   "execution_count": 24,
   "metadata": {},
   "outputs": [
    {
     "name": "stderr",
     "output_type": "stream",
     "text": [
      "Cleaning Data: 100%|██████████| 34083/34083 [00:36<00:00, 942.65it/s] \n"
     ]
    }
   ],
   "source": [
    "# Clean the classification csv, convert to a dataframe for creating training data\n",
    "df, path = clean_csv_file(csv_path, output_dir, workflow_id, version)"
   ]
  },
  {
   "cell_type": "markdown",
   "metadata": {},
   "source": [
    "### Move Zipped Curated to Reduced Season Folder"
   ]
  },
  {
   "cell_type": "code",
   "execution_count": 28,
   "metadata": {},
   "outputs": [],
   "source": [
    "media_ids = df['Media ID'].unique().astype(str).tolist()"
   ]
  },
  {
   "cell_type": "code",
   "execution_count": 29,
   "metadata": {},
   "outputs": [],
   "source": [
    "curated_path = os.path.abspath(\"../data/curated\")\n",
    "\n",
    "for media_id in media_ids:\n",
    "    # Assert that the zip file exists\n",
    "    zip_path = os.path.join(curated_path, f\"{media_id}.zip\")\n",
    "    if not os.path.exists(zip_path):\n",
    "        raise Exception(f\"ERROR: Could not find zip file for media {media_id} at {zip_path}.\")"
   ]
  },
  {
   "cell_type": "code",
   "execution_count": 30,
   "metadata": {},
   "outputs": [
    {
     "name": "stderr",
     "output_type": "stream",
     "text": [
      "Unzipping media files:   0%|          | 0/24 [00:00<?, ?it/s]"
     ]
    },
    {
     "name": "stdout",
     "output_type": "stream",
     "text": [
      "NOTE: Unzipping e:\\JordanP\\Click-a-Coral\\data\\curated\\4306979.zip to e:\\JordanP\\Click-a-Coral\\data\\reduced\\Season_2\\media\\4306979\n"
     ]
    },
    {
     "name": "stderr",
     "output_type": "stream",
     "text": [
      "Unzipping media files:   4%|▍         | 1/24 [00:04<01:48,  4.71s/it]"
     ]
    },
    {
     "name": "stdout",
     "output_type": "stream",
     "text": [
      "NOTE: Unzipping e:\\JordanP\\Click-a-Coral\\data\\curated\\4351615.zip to e:\\JordanP\\Click-a-Coral\\data\\reduced\\Season_2\\media\\4351615\n"
     ]
    },
    {
     "name": "stderr",
     "output_type": "stream",
     "text": [
      "Unzipping media files:   8%|▊         | 2/24 [00:06<01:02,  2.84s/it]"
     ]
    },
    {
     "name": "stdout",
     "output_type": "stream",
     "text": [
      "NOTE: Unzipping e:\\JordanP\\Click-a-Coral\\data\\curated\\4363043.zip to e:\\JordanP\\Click-a-Coral\\data\\reduced\\Season_2\\media\\4363043\n"
     ]
    },
    {
     "name": "stderr",
     "output_type": "stream",
     "text": [
      "Unzipping media files:  12%|█▎        | 3/24 [00:07<00:46,  2.20s/it]"
     ]
    },
    {
     "name": "stdout",
     "output_type": "stream",
     "text": [
      "NOTE: Unzipping e:\\JordanP\\Click-a-Coral\\data\\curated\\4377232.zip to e:\\JordanP\\Click-a-Coral\\data\\reduced\\Season_2\\media\\4377232\n"
     ]
    },
    {
     "name": "stderr",
     "output_type": "stream",
     "text": [
      "Unzipping media files:  17%|█▋        | 4/24 [00:09<00:41,  2.07s/it]"
     ]
    },
    {
     "name": "stdout",
     "output_type": "stream",
     "text": [
      "NOTE: Unzipping e:\\JordanP\\Click-a-Coral\\data\\curated\\4358705.zip to e:\\JordanP\\Click-a-Coral\\data\\reduced\\Season_2\\media\\4358705\n"
     ]
    },
    {
     "name": "stderr",
     "output_type": "stream",
     "text": [
      "Unzipping media files:  21%|██        | 5/24 [00:17<01:22,  4.35s/it]"
     ]
    },
    {
     "name": "stdout",
     "output_type": "stream",
     "text": [
      "NOTE: Unzipping e:\\JordanP\\Click-a-Coral\\data\\curated\\4356486.zip to e:\\JordanP\\Click-a-Coral\\data\\reduced\\Season_2\\media\\4356486\n"
     ]
    },
    {
     "name": "stderr",
     "output_type": "stream",
     "text": [
      "Unzipping media files:  25%|██▌       | 6/24 [00:26<01:43,  5.72s/it]"
     ]
    },
    {
     "name": "stdout",
     "output_type": "stream",
     "text": [
      "NOTE: Unzipping e:\\JordanP\\Click-a-Coral\\data\\curated\\4352385.zip to e:\\JordanP\\Click-a-Coral\\data\\reduced\\Season_2\\media\\4352385\n"
     ]
    },
    {
     "name": "stderr",
     "output_type": "stream",
     "text": [
      "Unzipping media files:  29%|██▉       | 7/24 [00:27<01:13,  4.30s/it]"
     ]
    },
    {
     "name": "stdout",
     "output_type": "stream",
     "text": [
      "NOTE: Unzipping e:\\JordanP\\Click-a-Coral\\data\\curated\\4355716.zip to e:\\JordanP\\Click-a-Coral\\data\\reduced\\Season_2\\media\\4355716\n"
     ]
    },
    {
     "name": "stderr",
     "output_type": "stream",
     "text": [
      "Unzipping media files:  33%|███▎      | 8/24 [00:32<01:09,  4.32s/it]"
     ]
    },
    {
     "name": "stdout",
     "output_type": "stream",
     "text": [
      "NOTE: Unzipping e:\\JordanP\\Click-a-Coral\\data\\curated\\4378753.zip to e:\\JordanP\\Click-a-Coral\\data\\reduced\\Season_2\\media\\4378753\n"
     ]
    },
    {
     "name": "stderr",
     "output_type": "stream",
     "text": [
      "Unzipping media files:  38%|███▊      | 9/24 [00:35<00:58,  3.92s/it]"
     ]
    },
    {
     "name": "stdout",
     "output_type": "stream",
     "text": [
      "NOTE: Unzipping e:\\JordanP\\Click-a-Coral\\data\\curated\\4353685.zip to e:\\JordanP\\Click-a-Coral\\data\\reduced\\Season_2\\media\\4353685\n"
     ]
    },
    {
     "name": "stderr",
     "output_type": "stream",
     "text": [
      "Unzipping media files:  42%|████▏     | 10/24 [00:37<00:47,  3.38s/it]"
     ]
    },
    {
     "name": "stdout",
     "output_type": "stream",
     "text": [
      "NOTE: Unzipping e:\\JordanP\\Click-a-Coral\\data\\curated\\4356011.zip to e:\\JordanP\\Click-a-Coral\\data\\reduced\\Season_2\\media\\4356011\n"
     ]
    },
    {
     "name": "stderr",
     "output_type": "stream",
     "text": [
      "Unzipping media files:  46%|████▌     | 11/24 [00:41<00:48,  3.75s/it]"
     ]
    },
    {
     "name": "stdout",
     "output_type": "stream",
     "text": [
      "NOTE: Unzipping e:\\JordanP\\Click-a-Coral\\data\\curated\\4364682.zip to e:\\JordanP\\Click-a-Coral\\data\\reduced\\Season_2\\media\\4364682\n"
     ]
    },
    {
     "name": "stderr",
     "output_type": "stream",
     "text": [
      "Unzipping media files:  50%|█████     | 12/24 [00:45<00:45,  3.75s/it]"
     ]
    },
    {
     "name": "stdout",
     "output_type": "stream",
     "text": [
      "NOTE: Unzipping e:\\JordanP\\Click-a-Coral\\data\\curated\\4376903.zip to e:\\JordanP\\Click-a-Coral\\data\\reduced\\Season_2\\media\\4376903\n"
     ]
    },
    {
     "name": "stderr",
     "output_type": "stream",
     "text": [
      "Unzipping media files:  54%|█████▍    | 13/24 [00:46<00:30,  2.78s/it]"
     ]
    },
    {
     "name": "stdout",
     "output_type": "stream",
     "text": [
      "NOTE: Unzipping e:\\JordanP\\Click-a-Coral\\data\\curated\\4355499.zip to e:\\JordanP\\Click-a-Coral\\data\\reduced\\Season_2\\media\\4355499\n"
     ]
    },
    {
     "name": "stderr",
     "output_type": "stream",
     "text": [
      "Unzipping media files:  58%|█████▊    | 14/24 [00:49<00:28,  2.88s/it]"
     ]
    },
    {
     "name": "stdout",
     "output_type": "stream",
     "text": [
      "NOTE: Unzipping e:\\JordanP\\Click-a-Coral\\data\\curated\\4361202.zip to e:\\JordanP\\Click-a-Coral\\data\\reduced\\Season_2\\media\\4361202\n"
     ]
    },
    {
     "name": "stderr",
     "output_type": "stream",
     "text": [
      "Unzipping media files:  62%|██████▎   | 15/24 [00:49<00:20,  2.22s/it]"
     ]
    },
    {
     "name": "stdout",
     "output_type": "stream",
     "text": [
      "NOTE: Unzipping e:\\JordanP\\Click-a-Coral\\data\\curated\\4363870.zip to e:\\JordanP\\Click-a-Coral\\data\\reduced\\Season_2\\media\\4363870\n"
     ]
    },
    {
     "name": "stderr",
     "output_type": "stream",
     "text": [
      "Unzipping media files:  67%|██████▋   | 16/24 [00:51<00:17,  2.16s/it]"
     ]
    },
    {
     "name": "stdout",
     "output_type": "stream",
     "text": [
      "NOTE: Unzipping e:\\JordanP\\Click-a-Coral\\data\\curated\\4350057.zip to e:\\JordanP\\Click-a-Coral\\data\\reduced\\Season_2\\media\\4350057\n"
     ]
    },
    {
     "name": "stderr",
     "output_type": "stream",
     "text": [
      "Unzipping media files:  71%|███████   | 17/24 [00:53<00:14,  2.05s/it]"
     ]
    },
    {
     "name": "stdout",
     "output_type": "stream",
     "text": [
      "NOTE: Unzipping e:\\JordanP\\Click-a-Coral\\data\\curated\\4375540.zip to e:\\JordanP\\Click-a-Coral\\data\\reduced\\Season_2\\media\\4375540\n"
     ]
    },
    {
     "name": "stderr",
     "output_type": "stream",
     "text": [
      "Unzipping media files:  75%|███████▌  | 18/24 [00:55<00:11,  1.90s/it]"
     ]
    },
    {
     "name": "stdout",
     "output_type": "stream",
     "text": [
      "NOTE: Unzipping e:\\JordanP\\Click-a-Coral\\data\\curated\\4362355.zip to e:\\JordanP\\Click-a-Coral\\data\\reduced\\Season_2\\media\\4362355\n"
     ]
    },
    {
     "name": "stderr",
     "output_type": "stream",
     "text": [
      "Unzipping media files:  79%|███████▉  | 19/24 [00:55<00:07,  1.52s/it]"
     ]
    },
    {
     "name": "stdout",
     "output_type": "stream",
     "text": [
      "NOTE: Unzipping e:\\JordanP\\Click-a-Coral\\data\\curated\\4356345.zip to e:\\JordanP\\Click-a-Coral\\data\\reduced\\Season_2\\media\\4356345\n"
     ]
    },
    {
     "name": "stderr",
     "output_type": "stream",
     "text": [
      "Unzipping media files:  83%|████████▎ | 20/24 [00:56<00:05,  1.26s/it]"
     ]
    },
    {
     "name": "stdout",
     "output_type": "stream",
     "text": [
      "NOTE: Unzipping e:\\JordanP\\Click-a-Coral\\data\\curated\\4346978.zip to e:\\JordanP\\Click-a-Coral\\data\\reduced\\Season_2\\media\\4346978\n"
     ]
    },
    {
     "name": "stderr",
     "output_type": "stream",
     "text": [
      "Unzipping media files:  88%|████████▊ | 21/24 [00:57<00:03,  1.21s/it]"
     ]
    },
    {
     "name": "stdout",
     "output_type": "stream",
     "text": [
      "NOTE: Unzipping e:\\JordanP\\Click-a-Coral\\data\\curated\\4291551.zip to e:\\JordanP\\Click-a-Coral\\data\\reduced\\Season_2\\media\\4291551\n"
     ]
    },
    {
     "name": "stderr",
     "output_type": "stream",
     "text": [
      "Unzipping media files:  92%|█████████▏| 22/24 [00:59<00:02,  1.28s/it]"
     ]
    },
    {
     "name": "stdout",
     "output_type": "stream",
     "text": [
      "NOTE: Unzipping e:\\JordanP\\Click-a-Coral\\data\\curated\\4287966.zip to e:\\JordanP\\Click-a-Coral\\data\\reduced\\Season_2\\media\\4287966\n"
     ]
    },
    {
     "name": "stderr",
     "output_type": "stream",
     "text": [
      "Unzipping media files:  96%|█████████▌| 23/24 [01:03<00:02,  2.11s/it]"
     ]
    },
    {
     "name": "stdout",
     "output_type": "stream",
     "text": [
      "NOTE: Unzipping e:\\JordanP\\Click-a-Coral\\data\\curated\\4292439.zip to e:\\JordanP\\Click-a-Coral\\data\\reduced\\Season_2\\media\\4292439\n"
     ]
    },
    {
     "name": "stderr",
     "output_type": "stream",
     "text": [
      "Unzipping media files: 100%|██████████| 24/24 [01:09<00:00,  2.90s/it]\n"
     ]
    }
   ],
   "source": [
    "temp_path = os.path.abspath(\"../data/reduced/Season_2/media\")\n",
    "os.makedirs(temp_path, exist_ok=True)\n",
    "\n",
    "for media_id in tqdm(media_ids, desc=\"Unzipping media files\"):\n",
    "    # Unzip the media\n",
    "    zip_path = os.path.join(curated_path, f\"{media_id}.zip\")\n",
    "    dst_path = os.path.join(temp_path, media_id)\n",
    "    \n",
    "    # Check if zip exists and destination doesn't exist yet\n",
    "    if not os.path.exists(zip_path):\n",
    "        raise Exception(f\"ERROR: Could not find zip file for media {media_id} at {zip_path}.\")\n",
    "        \n",
    "    if os.path.exists(dst_path):\n",
    "        print(f\"NOTE: Directory already exists for {media_id}, skipping unzip\")\n",
    "        continue\n",
    "        \n",
    "    # Create destination directory\n",
    "    os.makedirs(dst_path, exist_ok=True)\n",
    "    \n",
    "    try:\n",
    "        # Extract directly to the media_id subfolder\n",
    "        print(f\"NOTE: Unzipping {zip_path} to {dst_path}\")\n",
    "        shutil.unpack_archive(zip_path, dst_path, 'zip')\n",
    "        \n",
    "        # Check if files were extracted to a subfolder with media_id name inside dst_path\n",
    "        # If so, move them up to dst_path\n",
    "        nested_dir = os.path.join(dst_path, media_id)\n",
    "        if os.path.exists(nested_dir) and os.path.isdir(nested_dir):\n",
    "            for item in os.listdir(nested_dir):\n",
    "                shutil.move(os.path.join(nested_dir, item), dst_path)\n",
    "            os.rmdir(nested_dir)  # Remove the now-empty nested directory\n",
    "    except Exception as e:\n",
    "        print(f\"WARNING: Issue with unpacking {media_id}: {str(e)}\")\n",
    "        continue\n",
    "    \n",
    "    # Check if the frames directory exists\n",
    "    frames_dir = os.path.join(dst_path, \"frames\")\n",
    "    frames_csv = os.path.join(dst_path, \"frames.csv\")\n",
    "    \n",
    "    if not os.path.exists(frames_dir):\n",
    "        print(f\"ERROR: Could not find frames directory for media {media_id} at {frames_dir}.\")\n",
    "        \n",
    "    if not os.path.exists(frames_csv):\n",
    "        print(f\"ERROR: Could not find frames.csv for media {media_id} at {frames_csv}.\")\n"
   ]
  }
 ],
 "metadata": {
  "kernelspec": {
   "display_name": "cac",
   "language": "python",
   "name": "python3"
  },
  "language_info": {
   "codemirror_mode": {
    "name": "ipython",
    "version": 3
   },
   "file_extension": ".py",
   "mimetype": "text/x-python",
   "name": "python",
   "nbconvert_exporter": "python",
   "pygments_lexer": "ipython3",
   "version": "3.10.16"
  }
 },
 "nbformat": 4,
 "nbformat_minor": 2
}
