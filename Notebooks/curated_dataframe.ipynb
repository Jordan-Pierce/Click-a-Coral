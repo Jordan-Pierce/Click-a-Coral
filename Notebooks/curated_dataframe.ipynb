{
 "cells": [
  {
   "cell_type": "code",
   "execution_count": 1,
   "metadata": {},
   "outputs": [],
   "source": [
    "import os\n",
    "import glob\n",
    "import shutil\n",
    "from tqdm import tqdm\n",
    "from datetime import datetime\n",
    "\n",
    "import numpy as np\n",
    "import pandas as pd\n",
    "\n",
    "import tator\n",
    "import panoptes_client"
   ]
  },
  {
   "cell_type": "code",
   "execution_count": 2,
   "metadata": {},
   "outputs": [],
   "source": [
    "def get_now():\n",
    "    return datetime.now().strftime(\"%Y-%m-%d_%H-%M-%S\")"
   ]
  },
  {
   "cell_type": "markdown",
   "metadata": {},
   "source": [
    "### Configs"
   ]
  },
  {
   "cell_type": "code",
   "execution_count": 3,
   "metadata": {},
   "outputs": [
    {
     "name": "stdout",
     "output_type": "stream",
     "text": [
      "NOTE: Authentication to Zooniverse successful for Jordan-Pierce\n",
      "NOTE: Connected to Zooniverse project 'Click-a-Coral' successfully\n"
     ]
    }
   ],
   "source": [
    "username = os.getenv('ZOONIVERSE_USERNAME')\n",
    "password = os.getenv('ZOONIVERSE_PASSWORD')\n",
    "\n",
    "zoon_project_id = 21853\n",
    "\n",
    "try:\n",
    "    # Login to panoptes using username and password\n",
    "    panoptes_client.Panoptes.connect(username=username, password=password)\n",
    "    print(f\"NOTE: Authentication to Zooniverse successful for {username}\")\n",
    "except Exception as e:\n",
    "    raise Exception(f\"ERROR: Could not login to Panoptes for {username}\\n{e}\")\n",
    "\n",
    "try:\n",
    "    # Get access to the Zooniverse project given the provided credentials\n",
    "    project = panoptes_client.Project.find(id=zoon_project_id)\n",
    "    print(f\"NOTE: Connected to Zooniverse project '{project.title}' successfully\")\n",
    "except Exception as e:\n",
    "    raise Exception(f\"ERROR: Could not access project {zoon_project_id}.\\n{e}\")"
   ]
  },
  {
   "cell_type": "code",
   "execution_count": 4,
   "metadata": {},
   "outputs": [
    {
     "name": "stdout",
     "output_type": "stream",
     "text": [
      "NOTE: Authentication to TATOR successful for jordan.pierce\n"
     ]
    }
   ],
   "source": [
    "token = os.getenv('TATOR_TOKEN')\n",
    "project_id = 70\n",
    "\n",
    "try:\n",
    "    # Get the TATOR api given the provided token\n",
    "    api = tator.get_api(host='https://cloud.tator.io', token=token)\n",
    "    # Get the correct type of localization for the project (bounding box, attributes)\n",
    "    tator_project_id = project_id\n",
    "    state_type_id = 288  # State Type (ROV)\n",
    "    print(f\"NOTE: Authentication to TATOR successful for {api.whoami().username}\")\n",
    "except Exception as e:\n",
    "    raise Exception(f\"ERROR: Could not obtain needed information from TATOR.\\n{e}\")"
   ]
  },
  {
   "cell_type": "markdown",
   "metadata": {},
   "source": [
    "### Make Curated Dataframe"
   ]
  },
  {
   "cell_type": "code",
   "execution_count": null,
   "metadata": {},
   "outputs": [
    {
     "data": {
      "text/plain": [
       "218"
      ]
     },
     "execution_count": 5,
     "metadata": {},
     "output_type": "execute_result"
    }
   ],
   "source": [
    "# Find all of the curated data\n",
    "curated_media = glob.glob(f\"{os.path.abspath('../data/curated/')}/*.zip\")\n",
    "curated_media = [os.path.basename(path).split(\".\")[0] for path in curated_media if os.path.isfile(path)]\n",
    "\n",
    "print(f\"Found {len(curated_media)} curated media files\")"
   ]
  },
  {
   "cell_type": "code",
   "execution_count": 80,
   "metadata": {},
   "outputs": [
    {
     "name": "stderr",
     "output_type": "stream",
     "text": [
      "Extracting metadata from curated media: 100%|██████████| 218/218 [06:58<00:00,  1.92s/it]\n"
     ]
    }
   ],
   "source": [
    "# Extract metadata for each of the curated media files\n",
    "curated_metadata = []\n",
    "\n",
    "for media_id in tqdm(curated_media, desc=\"Extracting metadata from curated media\"):\n",
    "    # Get the media object from TATOR\n",
    "    media = api.get_media(media_id)\n",
    "    \n",
    "    # Get the media attributes from TATOR    \n",
    "    fps = media.fps\n",
    "    height = media.height\n",
    "    width = media.width\n",
    "    idx = media.id\n",
    "    name = media.name\n",
    "    num_frames = media.num_frames\n",
    "    created = media.created_datetime\n",
    "\n",
    "    camera = \"\"\n",
    "    cruise_id = \"\"\n",
    "    dive_id = \"\"\n",
    "    original_filename = \"\"\n",
    "    video_part = \"\"\n",
    "\n",
    "    if \"attributes\" in media.to_dict():\n",
    "        if \"Camera\" in media.attributes:\n",
    "            camera = media.attributes[\"Camera\"]\n",
    "        if \"CruiseID\" in media.attributes:\n",
    "            cruise_id = media.attributes[\"CruiseID\"]\n",
    "        if \"DiveID\" in media.attributes:\n",
    "            dive_id = media.attributes[\"DiveID\"]\n",
    "        if \"Original Filename\" in media.attributes:\n",
    "            original_filename = media.attributes[\"Original Filename\"]\n",
    "        if \"VideoPart\" in media.attributes:\n",
    "            video_part = media.attributes[\"VideoPart\"]\n",
    "            \n",
    "    metadata = {\n",
    "        \"media_id\": media_id,\n",
    "        \"name\": name,\n",
    "        \"fps\": fps,\n",
    "        \"height\": height,\n",
    "        \"width\": width,\n",
    "        \"num_frames\": num_frames,\n",
    "        \"created_datetime\": created,\n",
    "        \"camera\": camera,\n",
    "        \"cruise_id\": cruise_id,\n",
    "        \"dive_id\": dive_id,\n",
    "        \"original_filename\": original_filename,\n",
    "        \"video_part\": video_part\n",
    "    }\n",
    "                \n",
    "    try:\n",
    "        start_frame = 0\n",
    "        start_nav = api.get_state_list(project=tator_project_id, media_id=[media_id], type=state_type_id, \n",
    "                                    start=start_frame, stop=start_frame + 1)[0]\n",
    "        \n",
    "        mid_frame = int(num_frames // fps // 2)\n",
    "        mid_nav = api.get_state_list(project=tator_project_id, media_id=[media_id], type=state_type_id, \n",
    "                                    start=mid_frame, stop=mid_frame + 1)[0]\n",
    "        \n",
    "        end_frame = int(num_frames // fps) - int(fps)\n",
    "        end_nav = api.get_state_list(project=tator_project_id, media_id=[media_id], type=state_type_id, \n",
    "                                    start=end_frame)[-1]\n",
    "    \n",
    "        if start_nav:\n",
    "            if 'attributes' in start_nav.to_dict():\n",
    "                metadata['lat_0'] =  start_nav.attributes['Latitude']\n",
    "                metadata['lon_0'] =  start_nav.attributes['Longitude']\n",
    "                metadata['depth_0'] =  start_nav.attributes['DepthInMeters']\n",
    "        if mid_nav:\n",
    "            if 'attributes' in mid_nav.to_dict():\n",
    "                metadata['lat_1'] =  mid_nav.attributes['Latitude']\n",
    "                metadata['lon_1'] =  mid_nav.attributes['Longitude']\n",
    "                metadata['depth_1'] =  mid_nav.attributes['DepthInMeters']\n",
    "        if end_nav:\n",
    "            if 'attributes' in end_nav.to_dict():\n",
    "                metadata['lat_2'] =  end_nav.attributes['Latitude']\n",
    "                metadata['lon_2'] =  end_nav.attributes['Longitude']\n",
    "                metadata['depth_2'] =  end_nav.attributes['DepthInMeters']   \n",
    "            \n",
    "    except Exception as e:\n",
    "        pass\n",
    "    \n",
    "    curated_metadata.append(metadata)\n",
    "\n",
    "        "
   ]
  },
  {
   "cell_type": "code",
   "execution_count": null,
   "metadata": {},
   "outputs": [],
   "source": [
    "pd.DataFrame(curated_metadata).to_csv(\n",
    "    os.path.join(os.path.abspath(\"../data/\"), f\"curated_media_w_nav-{get_now()}.csv\"),\n",
    "    index=False,\n",
    "    header=True,\n",
    "    mode=\"w\"\n",
    ")"
   ]
  },
  {
   "cell_type": "code",
   "execution_count": null,
   "metadata": {},
   "outputs": [],
   "source": []
  }
 ],
 "metadata": {
  "kernelspec": {
   "display_name": "cac",
   "language": "python",
   "name": "python3"
  },
  "language_info": {
   "codemirror_mode": {
    "name": "ipython",
    "version": 3
   },
   "file_extension": ".py",
   "mimetype": "text/x-python",
   "name": "python",
   "nbconvert_exporter": "python",
   "pygments_lexer": "ipython3",
   "version": "3.10.16"
  }
 },
 "nbformat": 4,
 "nbformat_minor": 2
}
