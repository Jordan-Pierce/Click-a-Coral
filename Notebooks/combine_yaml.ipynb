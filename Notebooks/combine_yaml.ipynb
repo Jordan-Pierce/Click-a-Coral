{
 "cells": [
  {
   "cell_type": "code",
   "execution_count": 1,
   "id": "de9ac458",
   "metadata": {},
   "outputs": [],
   "source": [
    "import glob\n",
    "import yaml"
   ]
  },
  {
   "cell_type": "code",
   "execution_count": 4,
   "id": "06fa2d7c",
   "metadata": {},
   "outputs": [
    {
     "name": "stdout",
     "output_type": "stream",
     "text": [
      "118\n"
     ]
    }
   ],
   "source": [
    "yolo_dir = \"../data/reduced/\"\n",
    "yaml_paths = glob.glob(f\"{yolo_dir}/**/data.yaml\", recursive=True)\n",
    "print(len(yaml_paths))"
   ]
  },
  {
   "cell_type": "code",
   "execution_count": 6,
   "id": "3385fd03",
   "metadata": {},
   "outputs": [
    {
     "name": "stdout",
     "output_type": "stream",
     "text": [
      "Combined YAML file created at: ../data/reduced//training_data.yaml\n",
      "Keys in combined file: ['names', 'nc', 'train', 'val']\n",
      "Number of train paths: 118\n",
      "Number of val paths: 118\n"
     ]
    }
   ],
   "source": [
    "# Initialize an empty dictionary to store the combined data\n",
    "combined_data = {}\n",
    "\n",
    "# Track train and val paths\n",
    "train_paths = set()\n",
    "val_paths = set()\n",
    "\n",
    "# Loop through each YAML file\n",
    "for yaml_path in yaml_paths:\n",
    "    with open(yaml_path, 'r') as file:\n",
    "        data = yaml.safe_load(file)\n",
    "        \n",
    "        # Collect train and val paths\n",
    "        if 'train' in data and data['train']:\n",
    "            train_paths.add(data['train'])\n",
    "        if 'val' in data and data['val']:\n",
    "            val_paths.add(data['val'])\n",
    "        \n",
    "        # Merge the data from this file into the combined data\n",
    "        for key, value in data.items():\n",
    "            # Skip train and val keys for now\n",
    "            if key in ['train', 'val']:\n",
    "                continue\n",
    "                \n",
    "            # If this key doesn't exist in combined_data yet, add it\n",
    "            if key not in combined_data:\n",
    "                combined_data[key] = value\n",
    "            # If the key exists and both values are lists, extend the list\n",
    "            elif isinstance(combined_data[key], list) and isinstance(value, list):\n",
    "                # Convert to sets to remove duplicates, then back to list\n",
    "                combined_data[key] = list(set(combined_data[key] + value))\n",
    "            # For other types, just keep the last value\n",
    "            else:\n",
    "                combined_data[key] = value\n",
    "\n",
    "# Add the train and val paths to the combined data\n",
    "combined_data['train'] = list(train_paths)\n",
    "combined_data['val'] = list(val_paths)\n",
    "\n",
    "# If original train/val structure needs to be maintained for compatibility\n",
    "if 'train' not in combined_data:\n",
    "    combined_data['train'] = combined_data['train'][0] if train_paths else \"\"\n",
    "if 'val' not in combined_data:\n",
    "    combined_data['val'] = combined_data['val'][0] if val_paths else \"\"\n",
    "\n",
    "# Write the combined data to a new YAML file\n",
    "output_path = f\"{yolo_dir}/training_data.yaml\"\n",
    "with open(output_path, 'w') as file:\n",
    "    yaml.dump(combined_data, file, sort_keys=False)\n",
    "\n",
    "print(f\"Combined YAML file created at: {output_path}\")\n",
    "print(f\"Keys in combined file: {list(combined_data.keys())}\")\n",
    "print(f\"Number of train paths: {len(train_paths)}\")\n",
    "print(f\"Number of val paths: {len(val_paths)}\")"
   ]
  },
  {
   "cell_type": "code",
   "execution_count": null,
   "id": "cce63e45",
   "metadata": {},
   "outputs": [],
   "source": []
  }
 ],
 "metadata": {
  "kernelspec": {
   "display_name": "cac",
   "language": "python",
   "name": "python3"
  },
  "language_info": {
   "codemirror_mode": {
    "name": "ipython",
    "version": 3
   },
   "file_extension": ".py",
   "mimetype": "text/x-python",
   "name": "python",
   "nbconvert_exporter": "python",
   "pygments_lexer": "ipython3",
   "version": "3.10.16"
  }
 },
 "nbformat": 4,
 "nbformat_minor": 5
}
