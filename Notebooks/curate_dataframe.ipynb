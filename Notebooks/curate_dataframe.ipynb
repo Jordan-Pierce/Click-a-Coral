{
 "cells": [
  {
   "cell_type": "code",
   "execution_count": 1,
   "metadata": {},
   "outputs": [],
   "source": [
    "import os\n",
    "import glob\n",
    "import shutil\n",
    "from tqdm import tqdm\n",
    "from datetime import datetime\n",
    "\n",
    "import numpy as np\n",
    "import pandas as pd\n",
    "\n",
    "import tator\n",
    "import panoptes_client"
   ]
  },
  {
   "cell_type": "code",
   "execution_count": 2,
   "metadata": {},
   "outputs": [],
   "source": [
    "def get_now():\n",
    "    return datetime.now().strftime(\"%Y-%m-%d_%H-%M-%S\")"
   ]
  },
  {
   "cell_type": "markdown",
   "metadata": {},
   "source": [
    "### Configs"
   ]
  },
  {
   "cell_type": "code",
   "execution_count": 3,
   "metadata": {},
   "outputs": [
    {
     "name": "stdout",
     "output_type": "stream",
     "text": [
      "NOTE: Authentication to Zooniverse successful for Jordan-Pierce\n",
      "NOTE: Connected to Zooniverse project 'Click-a-Coral' successfully\n"
     ]
    }
   ],
   "source": [
    "username = os.getenv('ZOONIVERSE_USERNAME')\n",
    "password = os.getenv('ZOONIVERSE_PASSWORD')\n",
    "\n",
    "zoon_project_id = 21853\n",
    "\n",
    "try:\n",
    "    # Login to panoptes using username and password\n",
    "    panoptes_client.Panoptes.connect(username=username, password=password)\n",
    "    print(f\"NOTE: Authentication to Zooniverse successful for {username}\")\n",
    "except Exception as e:\n",
    "    raise Exception(f\"ERROR: Could not login to Panoptes for {username}\\n{e}\")\n",
    "\n",
    "try:\n",
    "    # Get access to the Zooniverse project given the provided credentials\n",
    "    project = panoptes_client.Project.find(id=zoon_project_id)\n",
    "    print(f\"NOTE: Connected to Zooniverse project '{project.title}' successfully\")\n",
    "except Exception as e:\n",
    "    raise Exception(f\"ERROR: Could not access project {zoon_project_id}.\\n{e}\")"
   ]
  },
  {
   "cell_type": "code",
   "execution_count": 4,
   "metadata": {},
   "outputs": [
    {
     "name": "stdout",
     "output_type": "stream",
     "text": [
      "NOTE: Authentication to TATOR successful for jordan.pierce\n"
     ]
    }
   ],
   "source": [
    "token = os.getenv('TATOR_TOKEN')\n",
    "project_id = 70\n",
    "\n",
    "try:\n",
    "    # Get the TATOR api given the provided token\n",
    "    api = tator.get_api(host='https://cloud.tator.io', token=token)\n",
    "    # Get the correct type of localization for the project (bounding box, attributes)\n",
    "    tator_project_id = project_id\n",
    "    state_type_id = 288  # State Type (ROV)\n",
    "    print(f\"NOTE: Authentication to TATOR successful for {api.whoami().username}\")\n",
    "except Exception as e:\n",
    "    raise Exception(f\"ERROR: Could not obtain needed information from TATOR.\\n{e}\")"
   ]
  },
  {
   "cell_type": "markdown",
   "metadata": {},
   "source": [
    "### Make Curated Dataframe"
   ]
  },
  {
   "cell_type": "code",
   "execution_count": 7,
   "metadata": {},
   "outputs": [
    {
     "name": "stdout",
     "output_type": "stream",
     "text": [
      "Found 12590 curated media files\n"
     ]
    }
   ],
   "source": [
    "# Find all of the curated data\n",
    "curated_data = glob.glob(f\"{os.path.abspath('../data/reduced/')}/Season_*/media/**/frames/*.jpg\", recursive=True)\n",
    "\n",
    "print(f\"Found {len(curated_data)} curated media files\")"
   ]
  },
  {
   "cell_type": "code",
   "execution_count": 8,
   "metadata": {},
   "outputs": [
    {
     "name": "stderr",
     "output_type": "stream",
     "text": [
      "Processing curated media files: 100%|██████████| 12590/12590 [00:00<00:00, 40092.79it/s]\n"
     ]
    }
   ],
   "source": [
    "curated_media = {}\n",
    "\n",
    "for media_file in tqdm(curated_data, desc=\"Processing curated media files\"):\n",
    "\n",
    "    # Get the media id from the file path\n",
    "    media_id = os.path.basename(os.path.dirname(os.path.dirname(media_file)))\n",
    "    \n",
    "    # Get the frame number from the file name\n",
    "    frame_number = os.path.splitext(os.path.basename(media_file))[0]\n",
    "    \n",
    "    if not media_id in curated_media:\n",
    "        curated_media[media_id] = []\n",
    "\n",
    "    curated_media[media_id].append(frame_number)\n"
   ]
  },
  {
   "cell_type": "code",
   "execution_count": 29,
   "metadata": {},
   "outputs": [
    {
     "name": "stderr",
     "output_type": "stream",
     "text": [
      "Processing media IDs: 100%|██████████| 182/182 [11:00<00:00,  3.63s/it]\n"
     ]
    }
   ],
   "source": [
    "dataframe = []\n",
    "columns = []\n",
    "\n",
    "for media_id, frame_ids in tqdm(curated_media.items(), desc=\"Processing media IDs\"):\n",
    "    \n",
    "    # Get the metadata for the media ID\n",
    "    try:\n",
    "        # Get the media object from TATOR\n",
    "        media = api.get_media(media_id)\n",
    "        \n",
    "        # Extract basic media properties\n",
    "        fps = media.fps\n",
    "        height = media.height\n",
    "        width = media.width\n",
    "        idx = media.id\n",
    "        name = media.name\n",
    "        num_frames = media.num_frames\n",
    "        created = media.created_datetime\n",
    "\n",
    "        camera = \"\"\n",
    "        cruise_id = \"\"\n",
    "        dive_id = \"\"\n",
    "        original_filename = \"\"\n",
    "        video_part = \"\"\n",
    "        \n",
    "        # Extract attributes if available\n",
    "        if \"attributes\" in media.to_dict():\n",
    "            if \"Camera\" in media.attributes:\n",
    "                camera = media.attributes[\"Camera\"]\n",
    "            if \"CruiseID\" in media.attributes:\n",
    "                cruise_id = media.attributes[\"CruiseID\"]\n",
    "            if \"DiveID\" in media.attributes:\n",
    "                dive_id = media.attributes[\"DiveID\"]\n",
    "            if \"Original Filename\" in media.attributes:\n",
    "                original_filename = media.attributes[\"Original Filename\"]\n",
    "            if \"VideoPart\" in media.attributes:\n",
    "                video_part = media.attributes[\"VideoPart\"]\n",
    "            \n",
    "        metadata = {\n",
    "            \"cruise_id\": cruise_id,\n",
    "            \"dive_id\": dive_id,\n",
    "            \"original_filename\": original_filename,\n",
    "            \"name\": name,\n",
    "            \"fps\": media.fps,\n",
    "            \"height\": media.height,\n",
    "            \"width\": media.width,\n",
    "            \"num_frames\": media.num_frames,\n",
    "            \"created_datetime\": media.created_datetime,\n",
    "            \"camera\": camera,\n",
    "            \"video_part\": video_part\n",
    "        }\n",
    "    \n",
    "    except Exception as e:\n",
    "        print(f\"ERROR: Could not get media attributes for media ID {media_id}.\\n{e}\")\n",
    "        # Set default values in case of error\n",
    "        metadata = {\n",
    "            \"cruise_id\": \"\",\n",
    "            \"dive_id\": \"\",\n",
    "            \"original_filename\": \"\",\n",
    "            \"name\": \"\",\n",
    "            \"fps\": 0,\n",
    "            \"height\": 0,\n",
    "            \"width\": 0,\n",
    "            \"num_frames\": 0,\n",
    "            \"camera\": \"\",\n",
    "            \"video_part\": \"\"\n",
    "        }\n",
    "\n",
    "    try:\n",
    "        # Get the Navigation data for the media ID\n",
    "        nav_data = api.get_state_list(project=tator_project_id, \n",
    "                                      media_id=[int(media_id)],\n",
    "                                      type=state_type_id)\n",
    "        \n",
    "        # Extract all the attributes for the frames in the media ID\n",
    "        attribute_list = [(item.frame, item.attributes) for item in nav_data if str(item.frame) in frame_ids]\n",
    "    \n",
    "        for frame, attributes in attribute_list:\n",
    "            dataframe.append([frame, media_id, *metadata.values(), *attributes.values()])\n",
    "            \n",
    "        if not columns:\n",
    "            columns = ['frame_id', 'media_id'] + [key for key in metadata] + [key for key in attributes]\n",
    "\n",
    "    except Exception as e:\n",
    "        print(f\"ERROR: Could not get state list for media ID {media_id}.\\n{e}\")\n",
    "        break\n",
    "    \n",
    "    "
   ]
  },
  {
   "cell_type": "code",
   "execution_count": 30,
   "metadata": {},
   "outputs": [],
   "source": [
    "pd.DataFrame(dataframe, columns=columns).to_csv(f\"../data/curated/curated_states_{get_now()}.csv\", index=False)"
   ]
  },
  {
   "cell_type": "code",
   "execution_count": null,
   "metadata": {},
   "outputs": [],
   "source": []
  }
 ],
 "metadata": {
  "kernelspec": {
   "display_name": "cac",
   "language": "python",
   "name": "python3"
  },
  "language_info": {
   "codemirror_mode": {
    "name": "ipython",
    "version": 3
   },
   "file_extension": ".py",
   "mimetype": "text/x-python",
   "name": "python",
   "nbconvert_exporter": "python",
   "pygments_lexer": "ipython3",
   "version": "3.10.16"
  }
 },
 "nbformat": 4,
 "nbformat_minor": 2
}
