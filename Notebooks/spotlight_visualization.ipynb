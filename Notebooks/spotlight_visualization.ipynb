{
 "cells": [
  {
   "cell_type": "code",
   "execution_count": 5,
   "metadata": {},
   "outputs": [],
   "source": [
    "import os.path\n",
    "import argparse\n",
    "import traceback\n",
    "from tqdm import tqdm\n",
    "\n",
    "import numpy as np\n",
    "import pandas as pd\n",
    "from pathlib import Path\n",
    "\n",
    "import cv2\n",
    "import supervision as sv\n",
    "from ultralytics import YOLO\n",
    "from renumics import spotlight"
   ]
  },
  {
   "cell_type": "code",
   "execution_count": 6,
   "metadata": {},
   "outputs": [],
   "source": [
    "def xywh_to_xyxyn(bbox):\n",
    "    \"\"\"convert from xywh to xyxyn format\"\"\"\n",
    "    return np.array([bbox[0], bbox[1], bbox[0] + bbox[2], bbox[1] + bbox[3]]).astype(int)\n",
    "\n",
    "\n",
    "def run_spotlight(yolo_dir, yolo_model=None):\n",
    "    \"\"\"\n",
    "    This function uses Renumics Spotlight to visualize the model predictions and user annotations for an image dataset.\n",
    "\n",
    "    Args:\n",
    "        yolo_dir (str): The path to the yolo-formatted object detect dataset\n",
    "        yolo_model (str): The path to the pre-trained model to be used as weights\n",
    "    \"\"\"\n",
    "    # Initialize dataframe\n",
    "    df = pd.DataFrame(columns=['filepath', 'categories', 'bboxs'])\n",
    "\n",
    "    dataset = []\n",
    "    \n",
    "    # User Supervision to load the YOLO dataset\n",
    "    for subfolder in [\"train\", \"valid\", \"test\"]:\n",
    "        # Load the YOLO dataset\n",
    "        data_path = f\"{yolo_dir}/{subfolder}\"\n",
    "        \n",
    "        if not os.path.exists(data_path):\n",
    "            continue\n",
    "        \n",
    "        print(f\"Loading {subfolder} dataset from {data_path}\")\n",
    "        data = sv.DetectionDataset.from_yolo(images_directory_path=f\"{data_path}/images\",\n",
    "                                             annotations_directory_path=f\"{data_path}/labels\",\n",
    "                                             data_yaml_path=f\"{yolo_dir}/data.yaml\")\n",
    "        \n",
    "        dataset.append(data)\n",
    "        \n",
    "    # Merge the datasets\n",
    "    dataset = sv.DetectionDataset.merge(dataset)\n",
    "    \n",
    "    row = []\n",
    "    for path, image, detections in tqdm(dataset, desc=\"Loading images and annotations\"):\n",
    "        # Get the class names for each of the annotations\n",
    "        labels = [dataset.classes[class_id] for class_id in detections.class_id]\n",
    "        # Get the bounding boxes for each of the annotations\n",
    "        bboxs = [xywh_to_xyxyn(detection.astype(int)) for detection in detections.xyxy]\n",
    "        row.append([path, labels, bboxs])\n",
    "\n",
    "    # Create a DataFrame from the loaded data\n",
    "    df = pd.DataFrame(row, columns=[\"filepath\", \"categories\", \"bboxs\"])\n",
    "        \n",
    "    if yolo_model is not None:\n",
    "        # Load the YOLO model\n",
    "        detection_model = YOLO(yolo_model)\n",
    "\n",
    "        # Goes through all the detections\n",
    "        for filepath in df[\"filepath\"].tolist():\n",
    "            detection = detection_model(filepath)[0]\n",
    "\n",
    "            # Adds detection information\n",
    "            detections.append(\n",
    "                {\n",
    "                    \"yolo_bboxs\": [np.array(box.xyxyn.tolist())[0] for box in detection.boxes],\n",
    "                    \"yolo_conf\": np.mean([np.array(box.conf.tolist())[0] for box in detection.boxes]),\n",
    "                    \"yolo_categories\": np.array(\n",
    "                        [np.array(detection.names[int(box.cls)]) for box in detection.boxes]\n",
    "                    ),\n",
    "                }\n",
    "            )\n",
    "\n",
    "        df = pd.concat([df, pd.DataFrame(detections)], axis=1)\n",
    "\n",
    "    # Shows in spotlight\n",
    "    print(\"Starting Spotlight...\")\n",
    "    spotlight.show(df, embed=['filepath'])"
   ]
  },
  {
   "cell_type": "code",
   "execution_count": 7,
   "metadata": {},
   "outputs": [],
   "source": [
    "yolo_dir = os.path.abspath(\"../Reduced/Season_1/Yolo/4346978\")\n",
    "yolo_model = None"
   ]
  },
  {
   "cell_type": "code",
   "execution_count": 8,
   "metadata": {},
   "outputs": [
    {
     "name": "stdout",
     "output_type": "stream",
     "text": [
      "Loading train dataset from e:\\JordanP\\Click-a-Coral\\Reduced\\Season_1\\Yolo\\4346978/train\n",
      "Loading valid dataset from e:\\JordanP\\Click-a-Coral\\Reduced\\Season_1\\Yolo\\4346978/valid\n"
     ]
    },
    {
     "name": "stderr",
     "output_type": "stream",
     "text": [
      "Loading images and annotations: 100%|██████████| 23/23 [00:00<00:00, 93.49it/s]\n"
     ]
    },
    {
     "name": "stdout",
     "output_type": "stream",
     "text": [
      "Starting Spotlight...\n",
      "Done.\n"
     ]
    }
   ],
   "source": [
    "try:\n",
    "    assert os.path.exists(yolo_dir), f\"Directory {yolo_dir} does not exist.\"\n",
    "    \n",
    "    # Run the spotlight analysis\n",
    "    run_spotlight(yolo_dir, yolo_model)\n",
    "    print(\"Done.\")\n",
    "\n",
    "except Exception as e:\n",
    "    print(f\"ERROR: {e}\")\n",
    "    traceback.print_exc()"
   ]
  }
 ],
 "metadata": {
  "kernelspec": {
   "display_name": "cac",
   "language": "python",
   "name": "python3"
  },
  "language_info": {
   "codemirror_mode": {
    "name": "ipython",
    "version": 3
   },
   "file_extension": ".py",
   "mimetype": "text/x-python",
   "name": "python",
   "nbconvert_exporter": "python",
   "pygments_lexer": "ipython3",
   "version": "3.10.16"
  }
 },
 "nbformat": 4,
 "nbformat_minor": 2
}
