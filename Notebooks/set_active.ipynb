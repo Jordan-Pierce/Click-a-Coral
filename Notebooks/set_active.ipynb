{
 "cells": [
  {
   "cell_type": "code",
   "execution_count": null,
   "id": "initial_id",
   "metadata": {
    "ExecuteTime": {
     "end_time": "2024-12-19T17:53:21.503927Z",
     "start_time": "2024-12-19T17:53:13.720385Z"
    },
    "collapsed": true
   },
   "outputs": [],
   "source": [
    "import panoptes_client\n",
    "import pandas as pd\n",
    "from tqdm import tqdm\n",
    "import os"
   ]
  },
  {
   "cell_type": "markdown",
   "id": "44557af0",
   "metadata": {},
   "source": [
    "### Credentials"
   ]
  },
  {
   "cell_type": "code",
   "execution_count": null,
   "id": "cca92483ff21cb3e",
   "metadata": {
    "ExecuteTime": {
     "end_time": "2024-12-19T17:53:40.226521Z",
     "start_time": "2024-12-19T17:53:40.220521Z"
    }
   },
   "outputs": [],
   "source": [
    "username = os.getenv('ZOONIVERSE_USERNAME')\n",
    "password = os.getenv('ZOONIVERSE_PASSWORD')\n",
    "\n",
    "zoon_project_id = 21853\n",
    "workflow_id = \"26428\"    \n",
    "\n",
    "try:\n",
    "    # Login to panoptes using username and password\n",
    "    panoptes_client.Panoptes.connect(username=username, password=password)\n",
    "    print(f\"NOTE: Authentication to Zooniverse successful for {username}\")\n",
    "except Exception as e:\n",
    "    raise Exception(f\"ERROR: Could not login to Panoptes for {username}\\n{e}\")\n",
    "\n",
    "try:\n",
    "    # Get access to the Zooniverse project given the provided credentials\n",
    "    project = panoptes_client.Project.find(id=zoon_project_id)\n",
    "    print(f\"NOTE: Connected to Zooniverse project '{project.title}' successfully\")\n",
    "except Exception as e:\n",
    "    raise Exception(f\"ERROR: Could not access project {zoon_project_id}.\\n{e}\")"
   ]
  },
  {
   "cell_type": "markdown",
   "id": "c0636268",
   "metadata": {},
   "source": [
    "#### List of Media IDs to Set Active"
   ]
  },
  {
   "cell_type": "code",
   "execution_count": null,
   "id": "84b9f909863c8f35",
   "metadata": {
    "ExecuteTime": {
     "end_time": "2024-12-19T18:13:16.859736Z",
     "start_time": "2024-12-19T18:13:16.850735Z"
    }
   },
   "outputs": [],
   "source": [
    "media_ids = [\n",
    "    '13773236',\n",
    "    '13849318',\n",
    "    '13817345',\n",
    "    '14399481',\n",
    "    '17093804',\n",
    "    '14405503',\n",
    "    '13756556',\n",
    "    '17093860',\n",
    "    '13759791',\n",
    "    '13754339',\n",
    "    '17093861',\n",
    "    '17093864',\n",
    "    '13723028',\n",
    "    '13849916',\n",
    "    '13849706',\n",
    "    '14405003',\n",
    "    '13759171',\n",
    "    '14409485',\n",
    "    '13757674',\n",
    "    '13800889',\n",
    "    '13849803',\n",
    "    '17093852',\n",
    "    '13753671',\n",
    "    '17093859',\n",
    "    '17093853',\n",
    "    '17093842',\n",
    "    '13849372',\n",
    "    '14406510',\n",
    "    '17093839',\n",
    "    '14403746',\n",
    "    '13759653',\n",
    "    '13849299',\n",
    "    '14411239',\n",
    "    '13849343',\n",
    "    '13849727',\n",
    "    '13808161',\n",
    "    '17093740',\n",
    "    '17093879',\n",
    "    '14409735',\n",
    "    '13760111',\n",
    "    '13773515',\n",
    "    '17093892',\n",
    "    '13753944',\n",
    "    '14402741',\n",
    "    '13725519',\n",
    "    '14393472',\n",
    "    '14388418',\n",
    "    '13849672',\n",
    "    '13723943',\n",
    "    '14407606',\n",
    "    '14411903',\n",
    "    '14405002',\n",
    "    '13760355',\n",
    "    '17093826',\n",
    "    '14406760',\n",
    "    '13798701',\n",
    "    '17093847',\n",
    "    '13773086',\n",
    "    '17093870',\n",
    "    '13772881',\n",
    "    '13849797',\n",
    "    '14405754',\n",
    "    '13802769',\n",
    "    '14403247',\n",
    "    '13849687',\n",
    "    '14404072',\n",
    "    '17093770',\n",
    "    '17093766',\n",
    "    '13849370',\n",
    "    '17093817',\n",
    "    '17093857',\n",
    "    '13775472',\n",
    "    '14407856',\n",
    "    '17093755',\n",
    "    '14404702',\n",
    "    '13798999',\n",
    "    '17093831',\n",
    "    '13760124',\n",
    "    '14398477',\n",
    "    '13817627',\n",
    "    '17093814',\n",
    "    '13722070',\n",
    "    '14408480',\n",
    "    '14408730',\n",
    "    '13808199',\n",
    "    '13754680',\n",
    "    '13800998',\n",
    "    '17093793',\n",
    "    '14411489',\n",
    "    '13751248',\n",
    "    '13849670',\n",
    "    '14410740',\n",
    "    '13849222',\n",
    "    '14406305',\n",
    "    '14397224',\n",
    "    '17093858',\n",
    "    '13849720',\n",
    "    '14410349',\n",
    "    '17093760',\n",
    "    '13757903',\n",
    "    '14401993',\n",
    "    '14404451',\n",
    "    '13849697',\n",
    "    '14406259',\n",
    "    '13754287',\n",
    "    '11113559',\n",
    "]"
   ]
  },
  {
   "cell_type": "markdown",
   "id": "9f14b55a",
   "metadata": {},
   "source": [
    "### Make Active"
   ]
  },
  {
   "cell_type": "code",
   "execution_count": null,
   "id": "803a6b6f413793fb",
   "metadata": {
    "ExecuteTime": {
     "end_time": "2024-12-19T18:34:04.650213Z",
     "start_time": "2024-12-19T18:27:09.890588Z"
    }
   },
   "outputs": [],
   "source": [
    "for media_id in media_ids:\n",
    "    \n",
    "    # Get the path to the frames directory and csv file\n",
    "    temp_path = os.path.abspath(\"../data/temp\")\n",
    "\n",
    "    dst_path = os.path.join(temp_path, media_id)\n",
    "    frames_dir = os.path.join(dst_path, \"frames\")\n",
    "    frames_csv = os.path.join(dst_path, \"frames.csv\")\n",
    "\n",
    "    if not os.path.exists(frames_csv) or not os.path.exists(frames_dir):\n",
    "        print(f\"ERROR: Missing frames directory or CSV file for media {media_id}.\")\n",
    "        continue\n",
    "    \n",
    "    for subject_set in project.links.subject_sets:\n",
    "        if media_id == subject_set.display_name:\n",
    "            try:\n",
    "                # Create Workflow object\n",
    "                workflow = panoptes_client.Workflow(workflow_id)\n",
    "                workflow_name = workflow.__dict__['raw']['display_name']\n",
    "                # Add the subject set created previously\n",
    "                print(f\"\\nNOTE: Adding subject set {subject_set.display_name} to workflow {workflow_name}\")\n",
    "                workflow.add_subject_sets([subject_set])\n",
    "                # Save\n",
    "                workflow.save()\n",
    "                project.save()\n",
    "            \n",
    "            except Exception as e:\n",
    "                raise Exception(f\"ERROR: Could not link subject {subject_set.display_name} to project workflows.\\n{e}\")\n"
   ]
  },
  {
   "cell_type": "code",
   "execution_count": null,
   "id": "c2a6c33d6c429295",
   "metadata": {},
   "outputs": [],
   "source": []
  }
 ],
 "metadata": {
  "kernelspec": {
   "display_name": "cac",
   "language": "python",
   "name": "python3"
  },
  "language_info": {
   "codemirror_mode": {
    "name": "ipython",
    "version": 3
   },
   "file_extension": ".py",
   "mimetype": "text/x-python",
   "name": "python",
   "nbconvert_exporter": "python",
   "pygments_lexer": "ipython3",
   "version": "3.10.16"
  }
 },
 "nbformat": 4,
 "nbformat_minor": 5
}
